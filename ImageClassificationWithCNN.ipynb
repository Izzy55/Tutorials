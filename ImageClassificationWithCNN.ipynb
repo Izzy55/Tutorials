{
  "nbformat": 4,
  "nbformat_minor": 0,
  "metadata": {
    "colab": {
      "name": "ImageClassificationWithCNN.ipynb",
      "provenance": [],
      "collapsed_sections": [],
      "authorship_tag": "ABX9TyO3swDDcM1/9XE05M1CZheY"
    },
    "kernelspec": {
      "name": "python3",
      "display_name": "Python 3"
    }
  },
  "cells": [
    {
      "cell_type": "code",
      "metadata": {
        "id": "YzuqzLp0bEgC",
        "colab_type": "code",
        "colab": {}
      },
      "source": [
        ""
      ],
      "execution_count": null,
      "outputs": []
    },
    {
      "cell_type": "markdown",
      "metadata": {
        "id": "JNN8MA1edexT",
        "colab_type": "text"
      },
      "source": [
        "#Convolutional Neural Networks in Python with Keras Tutorial\n",
        "Tutorial author:  Aditya Sharma\n",
        "\n",
        "**The Dataset:**  Fashion-MINIST dataset\n",
        "\n",
        "Zalando's article images\n",
        "\n",
        "28x28 grayscale images\n",
        "\n",
        "70,000 fashion products\n",
        "\n",
        "10 categories, 7,000 images per category\n",
        "\n",
        "\n",
        "\n"
      ]
    },
    {
      "cell_type": "code",
      "metadata": {
        "id": "HxJCy5ZCd2QZ",
        "colab_type": "code",
        "colab": {
          "base_uri": "https://localhost:8080/",
          "height": 153
        },
        "outputId": "6d75be57-5e97-4d8a-e740-a0a6e9f22008"
      },
      "source": [
        "# Load the Fashion MINIST dataset from the Keras datasets library\n",
        "# The train and test images with associated labels will be loaded and stored in the variables: train_X, train_Y, test_X, test_Y\n",
        "\n",
        "from keras.datasets import fashion_mnist\n",
        "\n",
        "(train_X, train_Y), (test_X, test_Y) = fashion_mnist.load_data()\n"
      ],
      "execution_count": 1,
      "outputs": [
        {
          "output_type": "stream",
          "text": [
            "Downloading data from https://storage.googleapis.com/tensorflow/tf-keras-datasets/train-labels-idx1-ubyte.gz\n",
            "32768/29515 [=================================] - 0s 0us/step\n",
            "Downloading data from https://storage.googleapis.com/tensorflow/tf-keras-datasets/train-images-idx3-ubyte.gz\n",
            "26427392/26421880 [==============================] - 0s 0us/step\n",
            "Downloading data from https://storage.googleapis.com/tensorflow/tf-keras-datasets/t10k-labels-idx1-ubyte.gz\n",
            "8192/5148 [===============================================] - 0s 0us/step\n",
            "Downloading data from https://storage.googleapis.com/tensorflow/tf-keras-datasets/t10k-images-idx3-ubyte.gz\n",
            "4423680/4422102 [==============================] - 0s 0us/step\n"
          ],
          "name": "stdout"
        }
      ]
    },
    {
      "cell_type": "markdown",
      "metadata": {
        "id": "dO75Fk41gvPb",
        "colab_type": "text"
      },
      "source": [
        "### Data Analysis"
      ]
    },
    {
      "cell_type": "code",
      "metadata": {
        "id": "bmhO7cnNgkNl",
        "colab_type": "code",
        "colab": {
          "base_uri": "https://localhost:8080/",
          "height": 51
        },
        "outputId": "fa35e992-215e-466b-c8c3-d16b86b4edb4"
      },
      "source": [
        "import numpy as np\n",
        "from keras.utils import to_categorical\n",
        "import matplotlib.pyplot as plt\n",
        "%matplotlib inline\n",
        "\n",
        "# View the dimensions of the dataset\n",
        "\n",
        "print('Training data shape: ', train_X.shape, train_Y.shape)\n",
        "print('Testing data shape: ', test_X.shape, test_Y.shape)"
      ],
      "execution_count": 2,
      "outputs": [
        {
          "output_type": "stream",
          "text": [
            "Training data shape:  (60000, 28, 28) (60000,)\n",
            "Testing data shape:  (10000, 28, 28) (10000,)\n"
          ],
          "name": "stdout"
        }
      ]
    },
    {
      "cell_type": "code",
      "metadata": {
        "id": "MemSp_Amgkba",
        "colab_type": "code",
        "colab": {
          "base_uri": "https://localhost:8080/",
          "height": 51
        },
        "outputId": "a902ee86-7264-4231-9d8b-14fd00bc7073"
      },
      "source": [
        "# View unique classes \n",
        "\n",
        "classes = np.unique(train_Y)\n",
        "nClasses = len(classes)\n",
        "print('Total number of outputs: ', nClasses)\n",
        "print('Unique output classes: ', classes)"
      ],
      "execution_count": 3,
      "outputs": [
        {
          "output_type": "stream",
          "text": [
            "Total number of outputs:  10\n",
            "Unique output classes:  [0 1 2 3 4 5 6 7 8 9]\n"
          ],
          "name": "stdout"
        }
      ]
    },
    {
      "cell_type": "code",
      "metadata": {
        "id": "tL55-__dgkkm",
        "colab_type": "code",
        "colab": {
          "base_uri": "https://localhost:8080/",
          "height": 208
        },
        "outputId": "19fda06e-db75-4b4f-85fc-873619980cba"
      },
      "source": [
        "# View the first image in the training and testing datasets\n",
        "\n",
        "plt.figure(figsize=[5,5])\n",
        "\n",
        "# look at first image in training data\n",
        "plt.subplot(121)\n",
        "plt.imshow(train_X[0,:,:], cmap='gray')\n",
        "plt.title(\"Ground Truth: {}\".format(train_Y[0]))\n",
        "\n",
        "# look at first image in testing data\n",
        "plt.subplot(122)\n",
        "plt.imshow(test_X[0,:,:], cmap='gray')\n",
        "plt.title(\"Ground Truth: {}\".format(test_Y[0]))"
      ],
      "execution_count": 4,
      "outputs": [
        {
          "output_type": "execute_result",
          "data": {
            "text/plain": [
              "Text(0.5, 1.0, 'Ground Truth: 9')"
            ]
          },
          "metadata": {
            "tags": []
          },
          "execution_count": 4
        },
        {
          "output_type": "display_data",
          "data": {
            "image/png": "[encoded data removed]",
            "text/plain": [
              "<Figure size 360x360 with 2 Axes>"
            ]
          },
          "metadata": {
            "tags": [],
            "needs_background": "light"
          }
        }
      ]
    },
    {
      "cell_type": "markdown",
      "metadata": {
        "id": "lUkXHuYqkzNT",
        "colab_type": "text"
      },
      "source": [
        "###Data Preprocessing"
      ]
    },
    {
      "cell_type": "code",
      "metadata": {
        "id": "K-qoB5N7gkrM",
        "colab_type": "code",
        "colab": {
          "base_uri": "https://localhost:8080/",
          "height": 34
        },
        "outputId": "38ede77c-0c5d-416d-c8e1-897b5ce18279"
      },
      "source": [
        "# Each grayscale pixel has a value that ranges from 0-255, with 255 being black and 0 being white\n",
        "\n",
        "# Convert each 28x28 image of the train and test sets into a matrix of size 28x28x1 to feed into the network\n",
        "\n",
        "train_X = train_X.reshape(-1,28,28,1)\n",
        "test_X = test_X.reshape(-1,28,28,1)\n",
        "train_X.shape, test_X.shape"
      ],
      "execution_count": 5,
      "outputs": [
        {
          "output_type": "execute_result",
          "data": {
            "text/plain": [
              "((60000, 28, 28, 1), (10000, 28, 28, 1))"
            ]
          },
          "metadata": {
            "tags": []
          },
          "execution_count": 5
        }
      ]
    },
    {
      "cell_type": "code",
      "metadata": {
        "id": "JBR6PUhIgkxb",
        "colab_type": "code",
        "colab": {}
      },
      "source": [
        "# Change data type from int8 to float32\n",
        "# rescale pixel values to be in range 0-1 \n",
        "\n",
        "train_X = train_X.astype('float32')\n",
        "test_X = test_X.astype('float32')\n",
        "\n",
        "train_X = train_X/255.\n",
        "test_X = test_X/255. "
      ],
      "execution_count": 6,
      "outputs": []
    },
    {
      "cell_type": "code",
      "metadata": {
        "id": "MjJbjv1_m5wB",
        "colab_type": "code",
        "colab": {
          "base_uri": "https://localhost:8080/",
          "height": 51
        },
        "outputId": "5e611498-a17c-4705-ed3b-d7ff020ced0f"
      },
      "source": [
        "# Convert class labels from categorical to one-hot encoded vectors\n",
        "\n",
        "train_Y_one_hot = to_categorical(train_Y)\n",
        "test_Y_one_hot = to_categorical(test_Y)\n",
        "\n",
        "print('Original label: ', train_Y[0])\n",
        "print('One Hot Encoded label: ', train_Y_one_hot[0])\n"
      ],
      "execution_count": 7,
      "outputs": [
        {
          "output_type": "stream",
          "text": [
            "Original label:  9\n",
            "One Hot Encoded label:  [0. 0. 0. 0. 0. 0. 0. 0. 0. 1.]\n"
          ],
          "name": "stdout"
        }
      ]
    },
    {
      "cell_type": "code",
      "metadata": {
        "id": "ZRN4DHDem56V",
        "colab_type": "code",
        "colab": {}
      },
      "source": [
        "# Split training data into 80% training and 20% validation sets\n",
        "\n",
        "from sklearn.model_selection import train_test_split\n",
        "\n",
        "train_X, valid_X, train_label, valid_label = train_test_split(train_X, train_Y_one_hot, test_size = 0.2, random_state = 13)"
      ],
      "execution_count": 8,
      "outputs": []
    },
    {
      "cell_type": "code",
      "metadata": {
        "id": "6tubh14Bm6Dp",
        "colab_type": "code",
        "colab": {
          "base_uri": "https://localhost:8080/",
          "height": 34
        },
        "outputId": "eee4bf72-99ce-4e68-af90-e323270735f3"
      },
      "source": [
        "train_X.shape, valid_X.shape, train_label.shape, valid_label.shape "
      ],
      "execution_count": 9,
      "outputs": [
        {
          "output_type": "execute_result",
          "data": {
            "text/plain": [
              "((48000, 28, 28, 1), (12000, 28, 28, 1), (48000, 10), (12000, 10))"
            ]
          },
          "metadata": {
            "tags": []
          },
          "execution_count": 9
        }
      ]
    },
    {
      "cell_type": "markdown",
      "metadata": {
        "id": "sDgoZlzxqF_3",
        "colab_type": "text"
      },
      "source": [
        "###Build the Network\n",
        "\n",
        "Layer Sequence\n",
        "*   Input: 1 28x28x1 image\n",
        "*   Convolutional Layer 1: 32, 3x3 filters\n",
        "*   Max Pooling Layer 1: 2x2\n",
        "*   Convolutional Layer 2: 64, 3x3 filters\n",
        "*   Max Pooling Layer 2: 2x2\n",
        "*   Convolutional Layer 3: 128, 3x3 filters\n",
        "*   Max Pooling Layer 3: 2x2\n",
        "*   Flattening layer\n",
        "*   Dense Layer: 128 units\n",
        "*   Output Layer: 10 units\n",
        "\n",
        "\n",
        "\n",
        "\n",
        "\n",
        "\n",
        "\n",
        "\n",
        "\n"
      ]
    },
    {
      "cell_type": "code",
      "metadata": {
        "id": "QH5lq4Zlm6M0",
        "colab_type": "code",
        "colab": {}
      },
      "source": [
        "# Import necessary modules\n",
        "\n",
        "import keras\n",
        "from keras.models import Sequential, Input, Model\n",
        "from keras.layers import Dense, Dropout, Flatten\n",
        "from keras.layers import Conv2D, MaxPooling2D\n",
        "from keras.layers.normalization import BatchNormalization\n",
        "from keras.layers.advanced_activations import LeakyReLU"
      ],
      "execution_count": 10,
      "outputs": []
    },
    {
      "cell_type": "code",
      "metadata": {
        "id": "JUMKHlN0m6Wm",
        "colab_type": "code",
        "colab": {}
      },
      "source": [
        "# Set batch size, epochs, and number of classes\n",
        "# will use batch size of 64 here, however batch sizes of 128 or 256 are preferrable depending on memory\n",
        "\n",
        "batch_size = 64\n",
        "epochs = 20\n",
        "num_classes = 10"
      ],
      "execution_count": 11,
      "outputs": []
    },
    {
      "cell_type": "code",
      "metadata": {
        "id": "5N-fEojGscMe",
        "colab_type": "code",
        "colab": {}
      },
      "source": [
        "# Construct Model Architecture\n",
        "# Activation function = Leaky ReLU (does not allow for a value to go to 0 and die out, instead will give small negative slope)\n",
        "\n",
        "fashion_model = Sequential()\n",
        "fashion_model.add(Conv2D(32, kernel_size=(3,3), activation = 'linear', input_shape = (28,28,1), padding='same',))\n",
        "fashion_model.add(LeakyReLU(alpha=0.1))\n",
        "fashion_model.add(MaxPooling2D((2,2), padding='same'))\n",
        "fashion_model.add(Conv2D(64, (3,3), activation='linear', padding='same'))\n",
        "fashion_model.add(LeakyReLU(alpha=0.1))\n",
        "fashion_model.add(MaxPooling2D((2,2), padding='same'))\n",
        "fashion_model.add(Conv2D(128, (3,3), activation='linear', padding='same'))\n",
        "fashion_model.add(LeakyReLU(alpha=0.1))\n",
        "fashion_model.add(MaxPooling2D((2,2), padding='same'))\n",
        "fashion_model.add(Flatten())\n",
        "fashion_model.add(Dense(128, activation='linear'))\n",
        "fashion_model.add(LeakyReLU(alpha=0.1))\n",
        "fashion_model.add(Dense(num_classes, activation='softmax'))\n"
      ],
      "execution_count": 12,
      "outputs": []
    },
    {
      "cell_type": "code",
      "metadata": {
        "id": "TXx-u1d3scUe",
        "colab_type": "code",
        "colab": {}
      },
      "source": [
        "# Compile the model\n",
        "# Optimizer = Adam, Loss = Categorical Cross Entropy, metrics = accuracy\n",
        "\n",
        "fashion_model.compile(loss=keras.losses.categorical_crossentropy, optimizer=keras.optimizers.Adam(), metrics=['accuracy'])\n"
      ],
      "execution_count": 13,
      "outputs": []
    },
    {
      "cell_type": "code",
      "metadata": {
        "id": "Bjp_BXUfscdT",
        "colab_type": "code",
        "colab": {
          "base_uri": "https://localhost:8080/",
          "height": 595
        },
        "outputId": "6fb3467f-642a-4cc1-e557-efcf39747842"
      },
      "source": [
        "# View model summary\n",
        "fashion_model.summary()"
      ],
      "execution_count": 14,
      "outputs": [
        {
          "output_type": "stream",
          "text": [
            "Model: \"sequential\"\n",
            "_________________________________________________________________\n",
            "Layer (type)                 Output Shape              Param #   \n",
            "=================================================================\n",
            "conv2d (Conv2D)              (None, 28, 28, 32)        320       \n",
            "_________________________________________________________________\n",
            "leaky_re_lu (LeakyReLU)      (None, 28, 28, 32)        0         \n",
            "_________________________________________________________________\n",
            "max_pooling2d (MaxPooling2D) (None, 14, 14, 32)        0         \n",
            "_________________________________________________________________\n",
            "conv2d_1 (Conv2D)            (None, 14, 14, 64)        18496     \n",
            "_________________________________________________________________\n",
            "leaky_re_lu_1 (LeakyReLU)    (None, 14, 14, 64)        0         \n",
            "_________________________________________________________________\n",
            "max_pooling2d_1 (MaxPooling2 (None, 7, 7, 64)          0         \n",
            "_________________________________________________________________\n",
            "conv2d_2 (Conv2D)            (None, 7, 7, 128)         73856     \n",
            "_________________________________________________________________\n",
            "leaky_re_lu_2 (LeakyReLU)    (None, 7, 7, 128)         0         \n",
            "_________________________________________________________________\n",
            "max_pooling2d_2 (MaxPooling2 (None, 4, 4, 128)         0         \n",
            "_________________________________________________________________\n",
            "flatten (Flatten)            (None, 2048)              0         \n",
            "_________________________________________________________________\n",
            "dense (Dense)                (None, 128)               262272    \n",
            "_________________________________________________________________\n",
            "leaky_re_lu_3 (LeakyReLU)    (None, 128)               0         \n",
            "_________________________________________________________________\n",
            "dense_1 (Dense)              (None, 10)                1290      \n",
            "=================================================================\n",
            "Total params: 356,234\n",
            "Trainable params: 356,234\n",
            "Non-trainable params: 0\n",
            "_________________________________________________________________\n"
          ],
          "name": "stdout"
        }
      ]
    },
    {
      "cell_type": "markdown",
      "metadata": {
        "id": "pmO8FGK74Dk7",
        "colab_type": "text"
      },
      "source": [
        "###Train the Model on Training Data, Validate on the Validation Data, Evaluate on the Test Data\n",
        "\n"
      ]
    },
    {
      "cell_type": "code",
      "metadata": {
        "id": "4uFBeWMJ27YD",
        "colab_type": "code",
        "colab": {
          "base_uri": "https://localhost:8080/",
          "height": 697
        },
        "outputId": "b0fda68b-638c-4eb9-cb42-b4640677d52d"
      },
      "source": [
        "# Train model for 20 epochs, batch size = 64\n",
        "\n",
        "fashion_train = fashion_model.fit(train_X, train_label, batch_size=batch_size, epochs=epochs, verbose=1, validation_data=(valid_X, valid_label))"
      ],
      "execution_count": 15,
      "outputs": [
        {
          "output_type": "stream",
          "text": [
            "Epoch 1/20\n",
            "750/750 [==============================] - 90s 119ms/step - loss: 0.4731 - accuracy: 0.8275 - val_loss: 0.3513 - val_accuracy: 0.8744\n",
            "Epoch 2/20\n",
            "750/750 [==============================] - 89s 118ms/step - loss: 0.2957 - accuracy: 0.8924 - val_loss: 0.2809 - val_accuracy: 0.8960\n",
            "Epoch 3/20\n",
            "750/750 [==============================] - 90s 120ms/step - loss: 0.2432 - accuracy: 0.9106 - val_loss: 0.2786 - val_accuracy: 0.8989\n",
            "Epoch 4/20\n",
            "750/750 [==============================] - 91s 122ms/step - loss: 0.2114 - accuracy: 0.9229 - val_loss: 0.2413 - val_accuracy: 0.9116\n",
            "Epoch 5/20\n",
            "750/750 [==============================] - 88s 118ms/step - loss: 0.1835 - accuracy: 0.9317 - val_loss: 0.2308 - val_accuracy: 0.9182\n",
            "Epoch 6/20\n",
            "750/750 [==============================] - 89s 119ms/step - loss: 0.1595 - accuracy: 0.9413 - val_loss: 0.2395 - val_accuracy: 0.9172\n",
            "Epoch 7/20\n",
            "750/750 [==============================] - 89s 118ms/step - loss: 0.1391 - accuracy: 0.9484 - val_loss: 0.2439 - val_accuracy: 0.9168\n",
            "Epoch 8/20\n",
            "750/750 [==============================] - 89s 119ms/step - loss: 0.1169 - accuracy: 0.9559 - val_loss: 0.2669 - val_accuracy: 0.9170\n",
            "Epoch 9/20\n",
            "750/750 [==============================] - 89s 119ms/step - loss: 0.0990 - accuracy: 0.9636 - val_loss: 0.3002 - val_accuracy: 0.9147\n",
            "Epoch 10/20\n",
            "750/750 [==============================] - 89s 119ms/step - loss: 0.0833 - accuracy: 0.9686 - val_loss: 0.2785 - val_accuracy: 0.9178\n",
            "Epoch 11/20\n",
            "750/750 [==============================] - 91s 121ms/step - loss: 0.0705 - accuracy: 0.9734 - val_loss: 0.2977 - val_accuracy: 0.9177\n",
            "Epoch 12/20\n",
            "750/750 [==============================] - 88s 118ms/step - loss: 0.0612 - accuracy: 0.9770 - val_loss: 0.3164 - val_accuracy: 0.9208\n",
            "Epoch 13/20\n",
            "750/750 [==============================] - 89s 119ms/step - loss: 0.0545 - accuracy: 0.9802 - val_loss: 0.3430 - val_accuracy: 0.9233\n",
            "Epoch 14/20\n",
            "750/750 [==============================] - 88s 117ms/step - loss: 0.0437 - accuracy: 0.9839 - val_loss: 0.3414 - val_accuracy: 0.9212\n",
            "Epoch 15/20\n",
            "750/750 [==============================] - 90s 120ms/step - loss: 0.0387 - accuracy: 0.9848 - val_loss: 0.3996 - val_accuracy: 0.9167\n",
            "Epoch 16/20\n",
            "750/750 [==============================] - 88s 118ms/step - loss: 0.0402 - accuracy: 0.9851 - val_loss: 0.4054 - val_accuracy: 0.9191\n",
            "Epoch 17/20\n",
            "750/750 [==============================] - 90s 120ms/step - loss: 0.0383 - accuracy: 0.9854 - val_loss: 0.4124 - val_accuracy: 0.9175\n",
            "Epoch 18/20\n",
            "750/750 [==============================] - 92s 123ms/step - loss: 0.0285 - accuracy: 0.9895 - val_loss: 0.4195 - val_accuracy: 0.9223\n",
            "Epoch 19/20\n",
            "750/750 [==============================] - 88s 118ms/step - loss: 0.0298 - accuracy: 0.9890 - val_loss: 0.4315 - val_accuracy: 0.9177\n",
            "Epoch 20/20\n",
            "750/750 [==============================] - 89s 118ms/step - loss: 0.0286 - accuracy: 0.9893 - val_loss: 0.4585 - val_accuracy: 0.9211\n"
          ],
          "name": "stdout"
        }
      ]
    },
    {
      "cell_type": "code",
      "metadata": {
        "id": "aGvao9Gs27nF",
        "colab_type": "code",
        "colab": {
          "base_uri": "https://localhost:8080/",
          "height": 51
        },
        "outputId": "7555d426-4270-4b58-d5c3-4c9a1e395954"
      },
      "source": [
        "# Evaluate on the Test Set\n",
        "\n",
        "test_eval = fashion_model.evaluate(test_X, test_Y_one_hot, verbose=0)\n",
        "\n",
        "print('Test Loss: ', test_eval[0])\n",
        "print('Test accuracy: ', test_eval[1])"
      ],
      "execution_count": 16,
      "outputs": [
        {
          "output_type": "stream",
          "text": [
            "Test Loss:  0.45936957001686096\n",
            "Test accuracy:  0.9222999811172485\n"
          ],
          "name": "stdout"
        }
      ]
    },
    {
      "cell_type": "code",
      "metadata": {
        "id": "Nr5YvTmW27vt",
        "colab_type": "code",
        "colab": {
          "base_uri": "https://localhost:8080/",
          "height": 545
        },
        "outputId": "77c150fa-58f5-4dc4-e910-dc1683a0004a"
      },
      "source": [
        "# Plot the accuracy and losss between the training and validation sets\n",
        "\n",
        "accuracy = fashion_train.history['accuracy']\n",
        "val_accuracy = fashion_train.history['val_accuracy']\n",
        "loss = fashion_train.history['loss']\n",
        "val_loss = fashion_train.history['val_loss']\n",
        "epochs = range(len(accuracy))\n",
        "\n",
        "plt.plot(epochs, accuracy, 'bo', label='Training accuracy')\n",
        "plt.plot(epochs, val_accuracy, 'b', label='Validation accuracy')\n",
        "plt.title('Training and Validation Accuracy')\n",
        "plt.legend()\n",
        "\n",
        "plt.figure()\n",
        "plt.plot(epochs, loss, 'bo', label='Training Loss')\n",
        "plt.plot(epochs, val_loss, 'b', label='Validation Loss')\n",
        "plt.title('Training and Validation Loss')\n",
        "plt.legend()\n",
        "\n",
        "plt.show()\n"
      ],
      "execution_count": 17,
      "outputs": [
        {
          "output_type": "display_data",
          "data": {
            "image/png": "[encoded data removed]",
            "text/plain": [
              "<Figure size 432x288 with 1 Axes>"
            ]
          },
          "metadata": {
            "tags": [],
            "needs_background": "light"
          }
        },
        {
          "output_type": "display_data",
          "data": {
            "image/png": "[encoded data removed]",
            "text/plain": [
              "<Figure size 432x288 with 1 Axes>"
            ]
          },
          "metadata": {
            "tags": [],
            "needs_background": "light"
          }
        }
      ]
    },
    {
      "cell_type": "markdown",
      "metadata": {
        "id": "0zPFIjdB-Blx",
        "colab_type": "text"
      },
      "source": [
        "Validation accuracy plateaued after 4-5 epochs.  The validation loss starts to increase after 4-5 epochs.  This indicates the model is memorizing the training data and overfitting.  To help mitigate this problem, dropout layers can be added.\n",
        "\n",
        "Dropout layers will randomly deactivate a fraction of the nodes during the training process, reducing the dependancy on the training data.  Random Deactivation of some of the nodes during training will not allow the network to memorize the training data since not all of the nodes will be active at the same time."
      ]
    },
    {
      "cell_type": "markdown",
      "metadata": {
        "id": "AfOEW85O-9xb",
        "colab_type": "text"
      },
      "source": [
        "###Adding Dropout Layers to the Network"
      ]
    },
    {
      "cell_type": "code",
      "metadata": {
        "id": "i1PGr_Uw2712",
        "colab_type": "code",
        "colab": {}
      },
      "source": [
        "# Re-construct Model Architecture with Addition of 4 Dropout layers\n",
        "# Activation function = Leaky ReLU (does not allow for a value to go to 0 and die out, instead will give small negative slope)\n",
        "\n",
        "fashion_model = Sequential()\n",
        "fashion_model.add(Conv2D(32, kernel_size=(3,3), activation = 'linear', input_shape = (28,28,1), padding='same',))\n",
        "fashion_model.add(LeakyReLU(alpha=0.1))\n",
        "fashion_model.add(MaxPooling2D((2,2), padding='same'))\n",
        "fashion_model.add(Dropout(0.25))\n",
        "fashion_model.add(Conv2D(64, (3,3), activation='linear', padding='same'))\n",
        "fashion_model.add(LeakyReLU(alpha=0.1))\n",
        "fashion_model.add(MaxPooling2D((2,2), padding='same'))\n",
        "fashion_model.add(Dropout(0.25))\n",
        "fashion_model.add(Conv2D(128, (3,3), activation='linear', padding='same'))\n",
        "fashion_model.add(LeakyReLU(alpha=0.1))\n",
        "fashion_model.add(MaxPooling2D((2,2), padding='same'))\n",
        "fashion_model.add(Dropout(0.4))\n",
        "fashion_model.add(Flatten())\n",
        "fashion_model.add(Dense(128, activation='linear'))\n",
        "fashion_model.add(LeakyReLU(alpha=0.1))\n",
        "fashion_model.add(Dropout(0.3))\n",
        "fashion_model.add(Dense(num_classes, activation='softmax'))\n"
      ],
      "execution_count": 18,
      "outputs": []
    },
    {
      "cell_type": "code",
      "metadata": {
        "id": "gn-vHBnI276B",
        "colab_type": "code",
        "colab": {
          "base_uri": "https://localhost:8080/",
          "height": 731
        },
        "outputId": "6316c4f6-5b37-4cc5-96f3-bf839dcc2e7e"
      },
      "source": [
        "# Look at summary or new model\n",
        "\n",
        "fashion_model.summary()"
      ],
      "execution_count": 19,
      "outputs": [
        {
          "output_type": "stream",
          "text": [
            "Model: \"sequential_1\"\n",
            "_________________________________________________________________\n",
            "Layer (type)                 Output Shape              Param #   \n",
            "=================================================================\n",
            "conv2d_3 (Conv2D)            (None, 28, 28, 32)        320       \n",
            "_________________________________________________________________\n",
            "leaky_re_lu_4 (LeakyReLU)    (None, 28, 28, 32)        0         \n",
            "_________________________________________________________________\n",
            "max_pooling2d_3 (MaxPooling2 (None, 14, 14, 32)        0         \n",
            "_________________________________________________________________\n",
            "dropout (Dropout)            (None, 14, 14, 32)        0         \n",
            "_________________________________________________________________\n",
            "conv2d_4 (Conv2D)            (None, 14, 14, 64)        18496     \n",
            "_________________________________________________________________\n",
            "leaky_re_lu_5 (LeakyReLU)    (None, 14, 14, 64)        0         \n",
            "_________________________________________________________________\n",
            "max_pooling2d_4 (MaxPooling2 (None, 7, 7, 64)          0         \n",
            "_________________________________________________________________\n",
            "dropout_1 (Dropout)          (None, 7, 7, 64)          0         \n",
            "_________________________________________________________________\n",
            "conv2d_5 (Conv2D)            (None, 7, 7, 128)         73856     \n",
            "_________________________________________________________________\n",
            "leaky_re_lu_6 (LeakyReLU)    (None, 7, 7, 128)         0         \n",
            "_________________________________________________________________\n",
            "max_pooling2d_5 (MaxPooling2 (None, 4, 4, 128)         0         \n",
            "_________________________________________________________________\n",
            "dropout_2 (Dropout)          (None, 4, 4, 128)         0         \n",
            "_________________________________________________________________\n",
            "flatten_1 (Flatten)          (None, 2048)              0         \n",
            "_________________________________________________________________\n",
            "dense_2 (Dense)              (None, 128)               262272    \n",
            "_________________________________________________________________\n",
            "leaky_re_lu_7 (LeakyReLU)    (None, 128)               0         \n",
            "_________________________________________________________________\n",
            "dropout_3 (Dropout)          (None, 128)               0         \n",
            "_________________________________________________________________\n",
            "dense_3 (Dense)              (None, 10)                1290      \n",
            "=================================================================\n",
            "Total params: 356,234\n",
            "Trainable params: 356,234\n",
            "Non-trainable params: 0\n",
            "_________________________________________________________________\n"
          ],
          "name": "stdout"
        }
      ]
    },
    {
      "cell_type": "code",
      "metadata": {
        "id": "cUu7FeeqPXgC",
        "colab_type": "code",
        "colab": {}
      },
      "source": [
        "# Compile new model\n",
        "# Optimizer = Adam, Loss = Categorical Cross Entropy, metrics = accuracy\n",
        "\n",
        "fashion_model.compile(loss=keras.losses.categorical_crossentropy, optimizer=keras.optimizers.Adam(), metrics=['accuracy'])"
      ],
      "execution_count": 20,
      "outputs": []
    },
    {
      "cell_type": "code",
      "metadata": {
        "id": "ppXXhWNFPXtI",
        "colab_type": "code",
        "colab": {
          "base_uri": "https://localhost:8080/",
          "height": 697
        },
        "outputId": "1251b7eb-d2a9-4c83-b578-f7925c3034fc"
      },
      "source": [
        "# Train the new Model\n",
        "# 20 epochs, batch size is 64\n",
        "\n",
        "fashion_train_dropout = fashion_model.fit(train_X, train_label, batch_size=batch_size, epochs=20, verbose=1, validation_data=(valid_X, valid_label))"
      ],
      "execution_count": 21,
      "outputs": [
        {
          "output_type": "stream",
          "text": [
            "Epoch 1/20\n",
            "750/750 [==============================] - 96s 128ms/step - loss: 0.6056 - accuracy: 0.7760 - val_loss: 0.3935 - val_accuracy: 0.8512\n",
            "Epoch 2/20\n",
            "750/750 [==============================] - 97s 130ms/step - loss: 0.3783 - accuracy: 0.8616 - val_loss: 0.3180 - val_accuracy: 0.8817\n",
            "Epoch 3/20\n",
            "750/750 [==============================] - 95s 126ms/step - loss: 0.3274 - accuracy: 0.8780 - val_loss: 0.2841 - val_accuracy: 0.8953\n",
            "Epoch 4/20\n",
            "750/750 [==============================] - 95s 126ms/step - loss: 0.2971 - accuracy: 0.8903 - val_loss: 0.2671 - val_accuracy: 0.9021\n",
            "Epoch 5/20\n",
            "750/750 [==============================] - 98s 130ms/step - loss: 0.2821 - accuracy: 0.8960 - val_loss: 0.2598 - val_accuracy: 0.9045\n",
            "Epoch 6/20\n",
            "750/750 [==============================] - 95s 127ms/step - loss: 0.2678 - accuracy: 0.9000 - val_loss: 0.2420 - val_accuracy: 0.9103\n",
            "Epoch 7/20\n",
            "750/750 [==============================] - 94s 126ms/step - loss: 0.2606 - accuracy: 0.9032 - val_loss: 0.2402 - val_accuracy: 0.9096\n",
            "Epoch 8/20\n",
            "750/750 [==============================] - 96s 128ms/step - loss: 0.2507 - accuracy: 0.9054 - val_loss: 0.2291 - val_accuracy: 0.9186\n",
            "Epoch 9/20\n",
            "750/750 [==============================] - 96s 128ms/step - loss: 0.2443 - accuracy: 0.9079 - val_loss: 0.2390 - val_accuracy: 0.9117\n",
            "Epoch 10/20\n",
            "750/750 [==============================] - 96s 128ms/step - loss: 0.2366 - accuracy: 0.9123 - val_loss: 0.2312 - val_accuracy: 0.9168\n",
            "Epoch 11/20\n",
            "750/750 [==============================] - 94s 126ms/step - loss: 0.2285 - accuracy: 0.9145 - val_loss: 0.2167 - val_accuracy: 0.9221\n",
            "Epoch 12/20\n",
            "750/750 [==============================] - 98s 131ms/step - loss: 0.2231 - accuracy: 0.9164 - val_loss: 0.2250 - val_accuracy: 0.9202\n",
            "Epoch 13/20\n",
            "750/750 [==============================] - 96s 128ms/step - loss: 0.2206 - accuracy: 0.9176 - val_loss: 0.2182 - val_accuracy: 0.9223\n",
            "Epoch 14/20\n",
            "750/750 [==============================] - 95s 126ms/step - loss: 0.2174 - accuracy: 0.9173 - val_loss: 0.2179 - val_accuracy: 0.9212\n",
            "Epoch 15/20\n",
            "750/750 [==============================] - 97s 129ms/step - loss: 0.2154 - accuracy: 0.9191 - val_loss: 0.2204 - val_accuracy: 0.9187\n",
            "Epoch 16/20\n",
            "750/750 [==============================] - 96s 128ms/step - loss: 0.2059 - accuracy: 0.9225 - val_loss: 0.2185 - val_accuracy: 0.9236\n",
            "Epoch 17/20\n",
            "750/750 [==============================] - 94s 126ms/step - loss: 0.2043 - accuracy: 0.9242 - val_loss: 0.2116 - val_accuracy: 0.9243\n",
            "Epoch 18/20\n",
            "750/750 [==============================] - 95s 126ms/step - loss: 0.2021 - accuracy: 0.9241 - val_loss: 0.2097 - val_accuracy: 0.9246\n",
            "Epoch 19/20\n",
            "750/750 [==============================] - 97s 129ms/step - loss: 0.2026 - accuracy: 0.9242 - val_loss: 0.2173 - val_accuracy: 0.9219\n",
            "Epoch 20/20\n",
            "750/750 [==============================] - 95s 127ms/step - loss: 0.1970 - accuracy: 0.9249 - val_loss: 0.2194 - val_accuracy: 0.9222\n"
          ],
          "name": "stdout"
        }
      ]
    },
    {
      "cell_type": "markdown",
      "metadata": {
        "id": "X5GbfoFCf8dt",
        "colab_type": "text"
      },
      "source": [
        "Adding the Dropout Layers did not greatly improve the testing accuracy, however there was a significant decrease in the test loss"
      ]
    },
    {
      "cell_type": "code",
      "metadata": {
        "id": "qxSajV8NP52q",
        "colab_type": "code",
        "colab": {
          "base_uri": "https://localhost:8080/",
          "height": 156
        },
        "outputId": "a57cc798-ae3b-4e09-d6c5-0d85cd773e65"
      },
      "source": [
        "# Save the new model\n",
        "\n",
        "fashion_model.save(\"fashion_model_dropout.h5py\")"
      ],
      "execution_count": 22,
      "outputs": [
        {
          "output_type": "stream",
          "text": [
            "WARNING:tensorflow:From /usr/local/lib/python3.6/dist-packages/tensorflow/python/training/tracking/tracking.py:111: Model.state_updates (from tensorflow.python.keras.engine.training) is deprecated and will be removed in a future version.\n",
            "Instructions for updating:\n",
            "This property should not be used in TensorFlow 2.0, as updates are applied automatically.\n",
            "WARNING:tensorflow:From /usr/local/lib/python3.6/dist-packages/tensorflow/python/training/tracking/tracking.py:111: Layer.updates (from tensorflow.python.keras.engine.base_layer) is deprecated and will be removed in a future version.\n",
            "Instructions for updating:\n",
            "This property should not be used in TensorFlow 2.0, as updates are applied automatically.\n",
            "INFO:tensorflow:Assets written to: fashion_model_dropout.h5py/assets\n"
          ],
          "name": "stdout"
        }
      ]
    },
    {
      "cell_type": "code",
      "metadata": {
        "id": "Zd7tLTXeP5_s",
        "colab_type": "code",
        "colab": {
          "base_uri": "https://localhost:8080/",
          "height": 68
        },
        "outputId": "0d13d851-dd1c-4b8a-cf02-16fe906a2be7"
      },
      "source": [
        "# Evaluate the new model\n",
        "\n",
        "test_eval = fashion_model.evaluate(test_X, test_Y_one_hot, verbose=1)\n",
        "\n",
        "print('Test loss: ', test_eval[0])\n",
        "print('Test accuracy: ', test_eval[1])"
      ],
      "execution_count": 23,
      "outputs": [
        {
          "output_type": "stream",
          "text": [
            "313/313 [==============================] - 6s 19ms/step - loss: 0.2373 - accuracy: 0.9158\n",
            "Test loss:  0.23725585639476776\n",
            "Test accuracy:  0.9157999753952026\n"
          ],
          "name": "stdout"
        }
      ]
    },
    {
      "cell_type": "code",
      "metadata": {
        "id": "y3lqtOfLQ-Ui",
        "colab_type": "code",
        "colab": {
          "base_uri": "https://localhost:8080/",
          "height": 545
        },
        "outputId": "fcb4d9d6-6dd0-47bc-def0-c689deb20cd1"
      },
      "source": [
        "# Plot the accuracy and losss between the training and validation sets\n",
        "\n",
        "accuracy = fashion_train_dropout.history['accuracy']\n",
        "val_accuracy = fashion_train_dropout.history['val_accuracy']\n",
        "loss = fashion_train_dropout.history['loss']\n",
        "val_loss = fashion_train_dropout.history['val_loss']\n",
        "epochs = range(len(accuracy))\n",
        "\n",
        "plt.plot(epochs, accuracy, 'bo', label='Training accuracy')\n",
        "plt.plot(epochs, val_accuracy, 'b', label='Validation accuracy')\n",
        "plt.title('Training and Validation Accuracy with Dropout Layers')\n",
        "plt.legend()\n",
        "\n",
        "plt.figure()\n",
        "plt.plot(epochs, loss, 'bo', label='Training Loss')\n",
        "plt.plot(epochs, val_loss, 'b', label='Validation Loss')\n",
        "plt.title('Training and Validation Loss With Dropout Layers')\n",
        "plt.legend()\n",
        "\n",
        "plt.show()"
      ],
      "execution_count": 24,
      "outputs": [
        {
          "output_type": "display_data",
          "data": {
            "image/png": "[encoded data removed]",
            "text/plain": [
              "<Figure size 432x288 with 1 Axes>"
            ]
          },
          "metadata": {
            "tags": [],
            "needs_background": "light"
          }
        },
        {
          "output_type": "display_data",
          "data": {
            "image/png": "[encoded data removed]",
            "text/plain": [
              "<Figure size 432x288 with 1 Axes>"
            ]
          },
          "metadata": {
            "tags": [],
            "needs_background": "light"
          }
        }
      ]
    },
    {
      "cell_type": "markdown",
      "metadata": {
        "id": "j-junZmhgZLf",
        "colab_type": "text"
      },
      "source": [
        "The validation loss and the validation accuracy for the updated model are trending together.  The model is no longer overfitting.  For this model, the validation loss is decreasing with progressive epochs and there is not much of a gap between the training and validation accuracy.\n",
        "\n",
        "This model is much more generalizable to new data."
      ]
    },
    {
      "cell_type": "markdown",
      "metadata": {
        "id": "um72xJr5h5SQ",
        "colab_type": "text"
      },
      "source": [
        "###Make Predictions with Test Set"
      ]
    },
    {
      "cell_type": "code",
      "metadata": {
        "id": "KQzgcrcvQ-fN",
        "colab_type": "code",
        "colab": {
          "base_uri": "https://localhost:8080/",
          "height": 34
        },
        "outputId": "07988e0b-a25c-4167-9d7b-cd4a8a4b7ff3"
      },
      "source": [
        "# Predictions given from the model are floating point values (probabilities), so to make comparisons between the test predictions and the test labels \n",
        "# the predictions output will need to be rounded to 1 or 0\n",
        "\n",
        "predicted_classes = fashion_model.predict(test_X)\n",
        "# return the index of the highest predicted value\n",
        "predicted_classes = np.argmax(np.round(predicted_classes), axis=1)\n",
        "#make sure prediction and test sets have the same number of values\n",
        "predicted_classes.shape, test_Y.shape\n"
      ],
      "execution_count": 25,
      "outputs": [
        {
          "output_type": "execute_result",
          "data": {
            "text/plain": [
              "((10000,), (10000,))"
            ]
          },
          "metadata": {
            "tags": []
          },
          "execution_count": 25
        }
      ]
    },
    {
      "cell_type": "code",
      "metadata": {
        "id": "T20JkH3TQ-p2",
        "colab_type": "code",
        "colab": {
          "base_uri": "https://localhost:8080/",
          "height": 298
        },
        "outputId": "0216fa37-4565-4d93-f9e6-0df2f876182a"
      },
      "source": [
        "# Find the total number of correctly predicted labels and show the top 9 correctly labeled images\n",
        "\n",
        "correct = np.where(predicted_classes == test_Y)[0]\n",
        "print(\"Found \", len(correct), \" correct labels\")\n",
        "\n",
        "for i, correct in enumerate(correct[:9]):\n",
        "  plt.subplot(3,3,i+1)\n",
        "  plt.imshow(test_X[correct].reshape(28,28), cmap='gray', interpolation='none')\n",
        "  plt.title(\"Predicted {}, Class {}\".format(predicted_classes[correct], test_Y[correct]))\n",
        "  plt.tight_layout()"
      ],
      "execution_count": 26,
      "outputs": [
        {
          "output_type": "stream",
          "text": [
            "Found  9133  correct labels\n"
          ],
          "name": "stdout"
        },
        {
          "output_type": "display_data",
          "data": {
            "image/png": "[encoded data removed]",
            "text/plain": [
              "<Figure size 432x288 with 9 Axes>"
            ]
          },
          "metadata": {
            "tags": [],
            "needs_background": "light"
          }
        }
      ]
    },
    {
      "cell_type": "code",
      "metadata": {
        "id": "N4z6e3wcix0P",
        "colab_type": "code",
        "colab": {
          "base_uri": "https://localhost:8080/",
          "height": 314
        },
        "outputId": "247459ae-9bf5-4776-b237-97f09a5edf90"
      },
      "source": [
        "# Find the total number of incorrectly predicted labels and show the top 9 incorrectly labeled images\n",
        "\n",
        "incorrect = np.where(predicted_classes != test_Y)[0]\n",
        "print(\"Found \", len(incorrect), \" incorrect labels\")\n",
        "\n",
        "for i, incorrect in enumerate(incorrect[:9]):\n",
        "  plt.subplot(3,3,i+1)\n",
        "  plt.imshow(test_X[incorrect].reshape(28,28), cmap='gray', interpolation='none')\n",
        "  plt.title(\"Predicted {}, Class {}\".format(predicted_classes[incorrect], test_Y[incorrect]))\n",
        "  plt.tight_layout()"
      ],
      "execution_count": 28,
      "outputs": [
        {
          "output_type": "stream",
          "text": [
            "Found  867  incorrect labels\n"
          ],
          "name": "stdout"
        },
        {
          "output_type": "display_data",
          "data": {
            "image/png": "[encoded data removed]",
            "text/plain": [
              "<Figure size 432x288 with 9 Axes>"
            ]
          },
          "metadata": {
            "tags": [],
            "needs_background": "light"
          }
        }
      ]
    },
    {
      "cell_type": "markdown",
      "metadata": {
        "id": "jGYgV5_7kLRn",
        "colab_type": "text"
      },
      "source": [
        "Looks like the network made misclassifications on items that are similar in sihouette - for example shirts and jackets"
      ]
    },
    {
      "cell_type": "markdown",
      "metadata": {
        "id": "ZrSoDZYVkiOZ",
        "colab_type": "text"
      },
      "source": [
        "###Classification Report"
      ]
    },
    {
      "cell_type": "code",
      "metadata": {
        "id": "a6lYch3MiyFX",
        "colab_type": "code",
        "colab": {
          "base_uri": "https://localhost:8080/",
          "height": 306
        },
        "outputId": "bef410ed-9220-4a2b-ce66-28961ccf96d1"
      },
      "source": [
        "# print classification report to help identify misclassified classes in more detail\n",
        "# classification report will offer insight on which classes the model performed poorly on\n",
        "\n",
        "from sklearn.metrics import classification_report\n",
        "\n",
        "target_names = [\"Class {}\".format(i) for i in range(num_classes)]\n",
        "print(classification_report(test_Y, predicted_classes, target_names=target_names))"
      ],
      "execution_count": 27,
      "outputs": [
        {
          "output_type": "stream",
          "text": [
            "              precision    recall  f1-score   support\n",
            "\n",
            "     Class 0       0.78      0.92      0.84      1000\n",
            "     Class 1       1.00      0.98      0.99      1000\n",
            "     Class 2       0.83      0.91      0.87      1000\n",
            "     Class 3       0.91      0.94      0.93      1000\n",
            "     Class 4       0.90      0.81      0.85      1000\n",
            "     Class 5       0.99      0.97      0.98      1000\n",
            "     Class 6       0.84      0.69      0.75      1000\n",
            "     Class 7       0.94      0.98      0.96      1000\n",
            "     Class 8       0.99      0.98      0.99      1000\n",
            "     Class 9       0.98      0.96      0.97      1000\n",
            "\n",
            "    accuracy                           0.91     10000\n",
            "   macro avg       0.92      0.91      0.91     10000\n",
            "weighted avg       0.92      0.91      0.91     10000\n",
            "\n"
          ],
          "name": "stdout"
        }
      ]
    },
    {
      "cell_type": "markdown",
      "metadata": {
        "id": "39iM3WrfmjWP",
        "colab_type": "text"
      },
      "source": [
        "The model is underperforming on class 6.  It also appears to be having some difficulty on class 2 and class 4 "
      ]
    },
    {
      "cell_type": "markdown",
      "metadata": {
        "id": "Hwuj7ecdn27a",
        "colab_type": "text"
      },
      "source": [
        "Source:\n",
        "https://www.datacamp.com/community/tutorials/convolutional-neural-networks-python\n",
        "\n",
        "Thank you to Aditya Sharma for providing the valuable learning resource"
      ]
    },
    {
      "cell_type": "code",
      "metadata": {
        "id": "zl50qDYViyS4",
        "colab_type": "code",
        "colab": {}
      },
      "source": [
        ""
      ],
      "execution_count": null,
      "outputs": []
    },
    {
      "cell_type": "code",
      "metadata": {
        "id": "f_WdLsuOiycW",
        "colab_type": "code",
        "colab": {}
      },
      "source": [
        ""
      ],
      "execution_count": null,
      "outputs": []
    },
    {
      "cell_type": "code",
      "metadata": {
        "id": "wCinlpvoiyiY",
        "colab_type": "code",
        "colab": {}
      },
      "source": [
        ""
      ],
      "execution_count": null,
      "outputs": []
    },
    {
      "cell_type": "code",
      "metadata": {
        "id": "LJs0j6-fiym8",
        "colab_type": "code",
        "colab": {}
      },
      "source": [
        ""
      ],
      "execution_count": null,
      "outputs": []
    }
  ]
}